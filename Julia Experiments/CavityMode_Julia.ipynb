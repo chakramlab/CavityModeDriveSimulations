{
 "cells": [
  {
   "cell_type": "markdown",
   "metadata": {},
   "source": [
    "# Setup"
   ]
  },
  {
   "cell_type": "markdown",
   "metadata": {},
   "source": [
    "## Installing Necessary Packages \n",
    "Uncomment and Run If Required Packages aren't Installed"
   ]
  },
  {
   "cell_type": "code",
   "execution_count": 2,
   "metadata": {},
   "outputs": [],
   "source": [
    "#import Pkg\n",
    "#Pkg.add(\"QuantumOptics\")\n",
    "#Pkg.add(\"Logging\")\n",
    "#Pkg.add(\"LinearAlgebra\")\n",
    "#Pkg.add(\"SparseArrays\")\n",
    "#Pkg.add(\"ProtoStructs\")\n",
    "#Pkg.add(\"CSV\")\n",
    "#Pkg.add(\"MiniLoggers\")"
   ]
  },
  {
   "cell_type": "code",
   "execution_count": null,
   "metadata": {},
   "outputs": [],
   "source": []
  },
  {
   "cell_type": "markdown",
   "metadata": {},
   "source": [
    "## Imports"
   ]
  },
  {
   "cell_type": "code",
   "execution_count": 3,
   "metadata": {},
   "outputs": [],
   "source": [
    "import QuantumOptics as qo\n",
    "using Logging\n",
    "\n",
    "using LinearAlgebra\n",
    "using SparseArrays\n",
    "import CairoMakie as cm\n",
    "\n",
    "using ProtoStructs\n",
    "\n",
    "import QuantumOptics.⊗\n",
    "import QuantumOptics.*\n",
    "\n",
    "import CSV\n",
    "\n",
    "using MiniLoggers"
   ]
  },
  {
   "cell_type": "markdown",
   "metadata": {},
   "source": [
    "## Logger Setup"
   ]
  },
  {
   "cell_type": "code",
   "execution_count": 4,
   "metadata": {},
   "outputs": [
    {
     "data": {
      "text/plain": [
       "Base.CoreLogging.SimpleLogger(VSCodeServer.IJuliaCore.IJuliaStdio{Base.PipeEndpoint, typeof(VSCodeServer.io_send_callback)}(IOContext(Base.PipeEndpoint(RawFD(21) open, 0 bytes waiting)), VSCodeServer.io_send_callback), Info, Dict{Any, Int64}())"
      ]
     },
     "metadata": {},
     "output_type": "display_data"
    }
   ],
   "source": [
    "# MiniLogger(minlevel = MiniLoggers.Info) |> global_logger\n",
    "InfoLogger = MiniLogger(minlevel = MiniLoggers.Info)\n",
    "DebugLogger = MiniLogger(minlevel = MiniLoggers.Debug)\n",
    "\n",
    "global_logger(InfoLogger)"
   ]
  },
  {
   "cell_type": "markdown",
   "metadata": {},
   "source": [
    "## Random Functions"
   ]
  },
  {
   "cell_type": "code",
   "execution_count": 6,
   "metadata": {},
   "outputs": [
    {
     "data": {
      "text/plain": [
       "tostr (generic function with 1 method)"
      ]
     },
     "metadata": {},
     "output_type": "display_data"
    }
   ],
   "source": [
    "function tostr(obj)\n",
    "    io = IOBuffer()\n",
    "    show(io, \"text/plain\", obj)\n",
    "    String(take!(io))\n",
    "end"
   ]
  },
  {
   "cell_type": "markdown",
   "metadata": {},
   "source": [
    "# Creating Structure and Initializer"
   ]
  },
  {
   "cell_type": "markdown",
   "metadata": {},
   "source": [
    "## Definining Transmon_Resonators Struct"
   ]
  },
  {
   "cell_type": "code",
   "execution_count": 7,
   "metadata": {},
   "outputs": [],
   "source": [
    "@proto @kwdef struct Transmon_Resonators\n",
    "    Eᶜ :: Float64\n",
    "    Eⱼ :: Float64\n",
    "    gs :: Vector{Float64}\n",
    "    ωs :: Vector{Float64}\n",
    "    \n",
    "    Nₜ :: Int\n",
    "    Nₜ_trunc :: Int\n",
    "    Nᵣs :: Vector{Int}\n",
    "    Nᵣs_trunc :: Vector{Int}\n",
    "    ng :: Real \n",
    "    \n",
    "    𝔹 :: qo.NLevelBasis{Int64}\n",
    "    Ĥ :: qo.Operator\n",
    "    n̂ :: qo.Operator\n",
    "    âs :: Vector\n",
    "\n",
    "    dressed_states :: Dict\n",
    "    dressed_energies :: Dict\n",
    "    pulse_args :: Dict = Dict{Any, Any}()\n",
    "    Extra_Stuf :: Dict = Dict{Any, Any}()\n",
    "    dressed_states_overlap_dict :: Dict\n",
    "end\n",
    "\n"
   ]
  },
  {
   "cell_type": "markdown",
   "metadata": {},
   "source": [
    "## Initializer"
   ]
  },
  {
   "cell_type": "code",
   "execution_count": 11,
   "metadata": {},
   "outputs": [
    {
     "data": {
      "text/plain": [
       "Make_Model (generic function with 1 method)"
      ]
     },
     "metadata": {},
     "output_type": "display_data"
    }
   ],
   "source": [
    "function Make_Model(Eᶜ, Eⱼ, gs, ωs, Nₜ, Nᵣs; ng =0, Nₜ_trunc = 60, Nᵣs_trunc = 30, return_dressed_overlaps = false, sparse_eigs_factor = 2, state_match_factor = 1)\n",
    "    # This function gets the truncated transmon hamiltonian and number operator in the energy basis \n",
    "    if !(length(ωs) == length(Nᵣs) & length(Nᵣs) == length(gs))\n",
    "        @error \"The lengths of g, ω and Nᵣs not the same. Please Try again\"\n",
    "        return Nothing\n",
    "    end \n",
    "    Nᵣs_trunc = fill(Nᵣs_trunc, length(Nᵣs))\n",
    "\n",
    "    # Building Non Truncated Transmon Ham\n",
    "    # =================================================================================================\n",
    "    @info \"Building Non-Truncated Hamiltonians\"\n",
    "    𝔹ₜᶠᵘˡˡ = qo.NLevelBasis(2*Nₜ_trunc+1)\n",
    "    𝕀̂ₜᶠᵘˡˡ=  qo.identityoperator(𝔹ₜᶠᵘˡˡ)\n",
    "    jump = 0*𝕀̂ₜᶠᵘˡˡ\n",
    "    for i in 1:(2*Nₜ_trunc)\n",
    "        jump += qo.transition(𝔹ₜᶠᵘˡˡ, i, i+1)\n",
    "    end\n",
    "\n",
    "    n̂ₜᶠᵘˡˡ = 0*𝕀̂ₜᶠᵘˡˡ\n",
    "    for i in 1:(2*Nₜ_trunc+1)\n",
    "        n̂ₜᶠᵘˡˡ += qo.transition(𝔹ₜᶠᵘˡˡ, i, i)*(i-Nₜ_trunc-1)\n",
    "    end\n",
    "\n",
    "    Ĥₜᶠᵘˡˡ = 4Eᶜ*(ng*𝕀̂ₜᶠᵘˡˡ - n̂ₜᶠᵘˡˡ)^2 - 0.5*Eⱼ*(jump+jump')\n",
    "    # =================================================================================================\n",
    "\n",
    "    # Building Non-Truncated Resonator Hamiltonians\n",
    "    # =================================================================================================\n",
    "    @info \"Building Non-Truncated Resonator Hamiltonians\"\n",
    "    𝔹ᵣᶠᵘˡˡs = []\n",
    "    𝕀̂ᵣᶠᵘˡˡs = []\n",
    "    âᵣᶠᵘˡˡs = []\n",
    "    Ĥᵣᶠᵘˡˡs = []\n",
    "\n",
    "    @debug \"Building Resonator Hamiltonians\"\n",
    "    for i in 1:length(Nᵣs_trunc)\n",
    "        @debug \"On Resonator $i\"\n",
    "        Nᵣ = Nᵣs_trunc[i]\n",
    "        𝔹ᵣ = qo.FockBasis(Nᵣ);\n",
    "        push!(𝔹ᵣᶠᵘˡˡs, 𝔹ᵣ)\n",
    "        âᵣ = qo.create(𝔹ᵣ)\n",
    "        push!(âᵣᶠᵘˡˡs, âᵣ);\n",
    "        push!(𝕀̂ᵣᶠᵘˡˡs, qo.identityoperator(𝔹ᵣ))\n",
    "        push!(Ĥᵣᶠᵘˡˡs,  ωs[i]*âᵣ'*âᵣ)\n",
    "    end \n",
    "    \n",
    "\n",
    "    if length(Nᵣs_trunc) > 1\n",
    "        Ĥᵣᶠᵘˡˡ = qo.tensor(𝕀̂ᵣᶠᵘˡˡs...)*0\n",
    "        for i in 1:length(Nᵣs_trunc)\n",
    "            ops = copy(𝕀̂ᵣᶠᵘˡˡs)\n",
    "            ops[i] = Ĥᵣᶠᵘˡˡs[i]\n",
    "\n",
    "            Ĥᵣᶠᵘˡˡ += qo.tensor(ops...)\n",
    "        end\n",
    "    end \n",
    "    if length(Nᵣs_trunc) == 1\n",
    "        Ĥᵣᶠᵘˡˡ = Ĥᵣᶠᵘˡˡs[1]\n",
    "    end\n",
    "    # # =================================================================================================\n",
    "\n",
    "    # # Building Non-Truncated Interaction Hamiltonian\n",
    "    # # =================================================================================================\n",
    "    @info \"Building Non-Truncated Interaciton Hamiltonian\"\n",
    "    Ĥᵢᶠᵘˡˡ = (𝕀̂ₜᶠᵘˡˡ ⊗ Ĥᵣᶠᵘˡˡ)*0\n",
    "\n",
    "    for i in 1:length(Nᵣs)\n",
    "        @debug \"Getting Interaction Hamiltonian part $i\"\n",
    "        ops = copy(𝕀̂ᵣᶠᵘˡˡs)\n",
    "        @debug \"    Got List of identity ops\"\n",
    "        ops[i] = âᵣᶠᵘˡˡs[i] + âᵣᶠᵘˡˡs[i]' \n",
    "        @debug \"    Updated the $i op to âs + âs'\"\n",
    "        if length(ops)>1\n",
    "            @debug \"Length ops > 1\"\n",
    "            Ĥᵢᶠᵘˡˡ += n̂ₜᶠᵘˡˡ⊗qo.tensor(ops...)*gs[i]\n",
    "        end\n",
    "        if length(ops) == 1\n",
    "            @debug \"length ops == 1\"\n",
    "            Ĥᵢᶠᵘˡˡ += n̂ₜᶠᵘˡˡ⊗ops[1]*gs[i]\n",
    "        end\n",
    "        @debug \"    Added the to the full interaction hamiltonian\"\n",
    "    end\n",
    "    \n",
    "    # # Getting Full Truncated Hamiltonian Hamiltonian\n",
    "    # # =================================================================================================\n",
    "    @info \"Putting Together Full Hamiltonian\"\n",
    "    if length(𝕀̂ᵣᶠᵘˡˡs)>1\n",
    "        @debug \"Length 𝕀̂ᵣᶠᵘˡˡs>1\"\n",
    "        Ĥᶠᵘˡˡ = Ĥₜᶠᵘˡˡ⊗qo.tensor(𝕀̂ᵣᶠᵘˡˡs...)\n",
    "        @debug \"    Added Transmon\"\n",
    "        Ĥᶠᵘˡˡ += 𝕀̂ₜᶠᵘˡˡ⊗Ĥᵣᶠᵘˡˡ\n",
    "        @debug \"    Added Resonators\"\n",
    "        Ĥᶠᵘˡˡ+=  Ĥᵢᶠᵘˡˡ\n",
    "        @debug \"    Added Interactions\"\n",
    "    end \n",
    "    if length(𝕀̂ᵣᶠᵘˡˡs)==1\n",
    "        Ĥᶠᵘˡˡ = Ĥₜᶠᵘˡˡ⊗𝕀̂ᵣᶠᵘˡˡs[1]+𝕀̂ₜᶠᵘˡˡ⊗Ĥᵣᶠᵘˡˡ + Ĥᵢᶠᵘˡˡ\n",
    "    end \n",
    "\n",
    "    # # Labeling Dressed States\n",
    "    # # =================================================================================================\n",
    "    @info \"Getting Eigenstates of Dressed and Bare Hamiltonians\"\n",
    "    FINAL_DIM = (Nₜ+1)*prod((Nᵣs .+ 1)) # Final DIM\n",
    "    num_eigstates = trunc(Int, sparse_eigs_factor*(FINAL_DIM))\n",
    "    @debug \"    Getting Dressed Eigensystem (This is Sparse)\"\n",
    "    dressed_eigsys = qo.eigenstates(Ĥᶠᵘˡˡ, n = num_eigstates)\n",
    "    \n",
    "    num_eigstates = sparse_eigs_factor*(Nₜ)\n",
    "    @debug \"    Getting Bare Transmon Eigensystem (This is Dense)\"\n",
    "    bare_transmon_states = qo.eigenstates(qo.dense(Ĥₜᶠᵘˡˡ))\n",
    "    \n",
    "\n",
    "    @debug \"    Getting Bare Resonator Eigensystems (This is Dense)\"\n",
    "    bare_resonator_states_vec = []\n",
    "    for i in 1:length(Nᵣs)\n",
    "        push!(bare_resonator_states_vec, qo.eigenstates(qo.dense(Ĥᵣᶠᵘˡˡs[i])))\n",
    "    end \n",
    "\n",
    "    overlap_dict = Dict{Any, Any}()\n",
    "\n",
    "    res_iter_list = []\n",
    "    for Nᵣᵢ in Nᵣs\n",
    "        push!(res_iter_list, 0:Nᵣᵢ)\n",
    "    end\n",
    "\n",
    "    states_to_keep_iter = Iterators.product(0:Nₜ, res_iter_list...)\n",
    "    \n",
    "    num_to_check = trunc(Int, state_match_factor * FINAL_DIM)\n",
    "    \n",
    "    @info \"Finding and Labeling Dressed States\"\n",
    "    @debug \"    Building Overlap Dict\"\n",
    "    for state in states_to_keep_iter\n",
    "        @debug \"        Doing State $state\"\n",
    "        overlap_dict[state] = zeros(length(dressed_eigsys[1]))\n",
    "        ψᵇᵃʳᵉₜ = bare_transmon_states[2][state[1]+1]\n",
    "        ψᵇᵃʳᵉᵣs = []\n",
    "        for i in 1:length(Nᵣs)\n",
    "            push!(ψᵇᵃʳᵉᵣs, bare_resonator_states_vec[i][2][state[i+1]+1])\n",
    "        end\n",
    "\n",
    "        ψᵇᵃʳᵉ = qo.tensor(ψᵇᵃʳᵉₜ, ψᵇᵃʳᵉᵣs...)\n",
    "\n",
    "        for i in 1:length(dressed_eigsys[2])\n",
    "            ψᵈʳᵉˢˢᵉᵈ = dressed_eigsys[2][i]\n",
    "            overlap_dict[state][i] = abs(ψᵈʳᵉˢˢᵉᵈ'*ψᵇᵃʳᵉ)^2\n",
    "        end\n",
    "    end\n",
    "    \n",
    "    dressed_states_dict_full = Dict{Any, Any}()\n",
    "    dressed_states_energy_dict = Dict{Any, Any}()\n",
    "    @debug \"    Appending Results to Dressed Dicts\"\n",
    "    for state in states_to_keep_iter\n",
    "        state_idx = argmax(overlap_dict[state])\n",
    "        dressed_states_dict_full[state] = dressed_eigsys[2][state_idx]\n",
    "        dressed_states_energy_dict[state] = dressed_eigsys[1][state_idx]\n",
    "    end\n",
    "\n",
    "    \n",
    "    # Building Truncated Hilbertspace and Operators\n",
    "    # =================================================================================================\n",
    "    @info \"Building Truncated Hilbertspace and Operators\"\n",
    "\n",
    "    dressed_states_dict_trunc = Dict{Any, Any}()\n",
    "\n",
    "    if length(Nᵣs) >1\n",
    "        n̂ᶠᵘˡˡ = qo.tensor(n̂ₜᶠᵘˡˡ, 𝕀̂ᵣᶠᵘˡˡs...) \n",
    "    end\n",
    "    if length(Nᵣs) == 1\n",
    "        n̂ᶠᵘˡˡ = qo.tensor(n̂ₜᶠᵘˡˡ, 𝕀̂ᵣᶠᵘˡˡs[1]) \n",
    "    end\n",
    "    \n",
    "\n",
    "    @debug \"Building Projection Op\"\n",
    "    Π = zeros(ComplexF64, length(dressed_states_dict_full), size(Ĥᶠᵘˡˡ)[1])\n",
    "\n",
    "    dressed_states_dict_full_keys = collect(keys(dressed_states_dict_full))\n",
    "    for i in 1:length(dressed_states_dict_full_keys)\n",
    "        state = dressed_states_dict_full_keys[i]\n",
    "        Π[i, :] = dressed_states_dict_full[state].data\n",
    "    end\n",
    "\n",
    "\n",
    "    n⃗ = Π*n̂ᶠᵘˡˡ.data*Π'\n",
    "    H⃗ = Π*Ĥᶠᵘˡˡ.data*Π'\n",
    "\n",
    "\n",
    "\n",
    "    a⃗s = []\n",
    "    for i in 1:length(Nᵣs)\n",
    "        ops = copy(𝕀̂ᵣᶠᵘˡˡs)\n",
    "        ops[i] = âᵣᶠᵘˡˡs[i]\n",
    "\n",
    "        âᶠᵘˡˡᵢ = qo.tensor(𝕀̂ₜᶠᵘˡˡ, ops...)\n",
    "        push!(a⃗s, Π*âᶠᵘˡˡᵢ.data*Π')\n",
    "    end\n",
    "\n",
    "    𝔹 = qo.NLevelBasis(FINAL_DIM)\n",
    "    Ψ = qo.nlevelstate(𝔹, 1)\n",
    "    \n",
    "    n̂ = 0*qo.identityoperator(𝔹)\n",
    "    n̂.data = n⃗\n",
    "\n",
    "    Ĥ = 0*qo.identityoperator(𝔹)\n",
    "    Ĥ.data = H⃗\n",
    "\n",
    "    herm_check = norm((Ĥ-Ĥ').data)\n",
    "    if herm_check>1e-9\n",
    "        @error \"herm check failed with value $herm_check\"\n",
    "        return Nothing\n",
    "    end\n",
    "    Ĥ = 0.5*(Ĥ+Ĥ')\n",
    "\n",
    "    âs = []\n",
    "    for i in 1:length(Nᵣs)\n",
    "        âᵢ = 0*qo.identityoperator(𝔹)\n",
    "        âᵢ.data = a⃗s[i]\n",
    "        push!(âs, âᵢ)\n",
    "    end\n",
    "\n",
    "    for i in 1:length(dressed_states_dict_full_keys)\n",
    "        state = dressed_states_dict_full_keys[i]\n",
    "        ψᶠᵘˡˡ = dressed_states_dict_full[state]\n",
    "        ψ = copy(Ψ)\n",
    "        ψ.data = Π*ψᶠᵘˡˡ.data\n",
    "        \n",
    "        dressed_states_dict_trunc[state] = ψ\n",
    "    end\n",
    "\n",
    "\n",
    "    dressed_states_overlap_dict = Dict{Any, Any}()\n",
    "    if return_dressed_overlaps\n",
    "        dressed_states_overlap_dict = overlap_dict\n",
    "    end\n",
    "\n",
    "    @info \"Done!\"    \n",
    "    return Transmon_Resonators(Eᶜ = Eᶜ, Eⱼ = Eⱼ, gs = gs, ωs = ωs, Nₜ = Nₜ, Nᵣs = Nᵣs, Nₜ_trunc = Nₜ_trunc, Nᵣs_trunc = Nᵣs_trunc, ng = ng, 𝔹 = 𝔹, Ĥ = Ĥ, n̂ = n̂, âs = âs, dressed_states = dressed_states_dict_trunc, dressed_energies = dressed_states_energy_dict, dressed_states_overlap_dict = dressed_states_overlap_dict)\n",
    "\n",
    "    \n",
    "end"
   ]
  },
  {
   "cell_type": "markdown",
   "metadata": {},
   "source": [
    "# Testing "
   ]
  },
  {
   "cell_type": "code",
   "execution_count": 12,
   "metadata": {},
   "outputs": [
    {
     "name": "stdout",
     "output_type": "stream",
     "text": [
      "[\u001b[36m2024-08-22 19:52:51\u001b[39m] \u001b[36mInfo\u001b[39m: Building Non-Truncated Hamiltonians\n",
      "[\u001b[36m2024-08-22 19:52:51\u001b[39m] \u001b[36mInfo\u001b[39m: Building Non-Truncated Resonator Hamiltonians\n",
      "[\u001b[36m2024-08-22 19:52:51\u001b[39m] \u001b[36mInfo\u001b[39m: Building Non-Truncated Interaciton Hamiltonian\n",
      "[\u001b[36m2024-08-22 19:52:51\u001b[39m] \u001b[36mInfo\u001b[39m: Putting Together Full Hamiltonian\n",
      "[\u001b[36m2024-08-22 19:52:51\u001b[39m] \u001b[36mInfo\u001b[39m: Getting Eigenstates of Dressed and Bare Hamiltonians\n",
      "[\u001b[36m2024-08-22 19:52:54\u001b[39m] \u001b[36mInfo\u001b[39m: Defaulting to sparse diagonalization for sparse operator. If storing the full operator is possible, it might be faster to do `eigenstates(dense(op))`. Set `info=false` to turn off this message.\n",
      "[\u001b[36m2024-08-22 19:52:55\u001b[39m] \u001b[36mInfo\u001b[39m: Finding and Labeling Dressed States\n",
      "[\u001b[36m2024-08-22 19:52:55\u001b[39m] \u001b[36mInfo\u001b[39m: Building Truncated Hilbertspace and Operators\n",
      "[\u001b[36m2024-08-22 19:52:55\u001b[39m] \u001b[36mInfo\u001b[39m: Done!\n"
     ]
    }
   ],
   "source": [
    "Eᶜ = 0.10283303447280807;\n",
    "Eⱼ = 26.96976142643705;\n",
    "\n",
    "gs = [0.026184375000000013];\n",
    "ωs = [6.2280871213];\n",
    "Nₜ = 10\n",
    "Nᵣs = [10]\n",
    "\n",
    "\n",
    "Mode3 = Make_Model(Eᶜ, Eⱼ, gs, ωs, Nₜ, Nᵣs, Nₜ_trunc = 40, Nᵣs_trunc = 10, sparse_eigs_factor = 2);\n"
   ]
  },
  {
   "cell_type": "code",
   "execution_count": 13,
   "metadata": {},
   "outputs": [
    {
     "name": "stdout",
     "output_type": "stream",
     "text": [
      "[\u001b[36m2024-08-22 19:52:57\u001b[39m] \u001b[36mInfo\u001b[39m: Building Non-Truncated Hamiltonians\n",
      "[\u001b[36m2024-08-22 19:52:57\u001b[39m] \u001b[36mInfo\u001b[39m: Building Non-Truncated Resonator Hamiltonians\n",
      "[\u001b[36m2024-08-22 19:52:57\u001b[39m] \u001b[36mInfo\u001b[39m: Building Non-Truncated Interaciton Hamiltonian\n",
      "[\u001b[36m2024-08-22 19:52:57\u001b[39m] \u001b[36mInfo\u001b[39m: Putting Together Full Hamiltonian\n",
      "[\u001b[36m2024-08-22 19:52:57\u001b[39m] \u001b[36mInfo\u001b[39m: Getting Eigenstates of Dressed and Bare Hamiltonians\n",
      "[\u001b[36m2024-08-22 19:52:57\u001b[39m] \u001b[36mInfo\u001b[39m: Defaulting to sparse diagonalization for sparse operator. If storing the full operator is possible, it might be faster to do `eigenstates(dense(op))`. Set `info=false` to turn off this message.\n",
      "[\u001b[36m2024-08-22 19:55:57\u001b[39m] \u001b[36mInfo\u001b[39m: Finding and Labeling Dressed States\n",
      "[\u001b[36m2024-08-22 19:56:08\u001b[39m] \u001b[36mInfo\u001b[39m: Building Truncated Hilbertspace and Operators\n",
      "[\u001b[36m2024-08-22 19:56:10\u001b[39m] \u001b[36mInfo\u001b[39m: Done!\n"
     ]
    }
   ],
   "source": [
    "Eᶜ = 0.10283303447280807;\n",
    "Eⱼ = 26.96976142643705;\n",
    "\n",
    "gs = [0.026184375000000013, 0.03020625000000001];\n",
    "ωs = [6.2280871213, 6.72062927579];\n",
    "Nₜ = 10\n",
    "Nᵣs = [6,6]\n",
    "\n",
    "\n",
    "Mode35 = Make_Model(Eᶜ, Eⱼ, gs, ωs, Nₜ, Nᵣs, Nₜ_trunc = 40, Nᵣs_trunc = 10, sparse_eigs_factor = 2);\n"
   ]
  },
  {
   "cell_type": "code",
   "execution_count": 15,
   "metadata": {},
   "outputs": [
    {
     "data": {
      "text/plain": [
       "\"comparison_35.csv\""
      ]
     },
     "metadata": {},
     "output_type": "display_data"
    }
   ],
   "source": [
    "CSV.write(\"comparison_3.csv\", Mode3.dressed_energies)\n",
    "CSV.write(\"comparison_35.csv\", Mode35.dressed_energies)"
   ]
  },
  {
   "cell_type": "code",
   "execution_count": null,
   "metadata": {},
   "outputs": [],
   "source": []
  }
 ],
 "metadata": {
  "kernelspec": {
   "display_name": "Julia 1.9.2",
   "language": "julia",
   "name": "julia-1.9"
  },
  "language_info": {
   "file_extension": ".jl",
   "mimetype": "application/julia",
   "name": "julia",
   "version": "1.9.2"
  }
 },
 "nbformat": 4,
 "nbformat_minor": 2
}
