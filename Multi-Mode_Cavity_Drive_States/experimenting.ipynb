{
 "cells": [
  {
   "cell_type": "markdown",
   "metadata": {},
   "source": [
    "# Setup"
   ]
  },
  {
   "cell_type": "markdown",
   "metadata": {},
   "source": [
    "## Imports"
   ]
  },
  {
   "cell_type": "code",
   "execution_count": 1,
   "metadata": {},
   "outputs": [
    {
     "name": "stderr",
     "output_type": "stream",
     "text": [
      "\u001b[32m\u001b[1m  Activating\u001b[22m\u001b[39m project at `~/.julia/environments/SCC`\n"
     ]
    },
    {
     "data": {
      "text/plain": [
       "0"
      ]
     },
     "metadata": {},
     "output_type": "display_data"
    }
   ],
   "source": [
    "using Pkg\n",
    "Pkg.activate(\"SCC\", shared=true)\n",
    "\n",
    "\n",
    "import QuantumToolbox as qt\n",
    "using Logging\n",
    "import CairoMakie as cm\n",
    "using MiniLoggers\n",
    "using Revise\n",
    "using Dates\n",
    "\n",
    "using RecursiveArrayTools\n",
    "using Tensors\n",
    "using ProgressLogging\n",
    "\n",
    "import LsqFit\n",
    "\n",
    "import JSON3\n",
    "import CSV\n",
    "\n",
    "using IJulia\n",
    "if isdefined(Main, :IJulia)\n",
    "    Main.IJulia.stdio_bytes[] = 0;\n",
    "end"
   ]
  },
  {
   "cell_type": "code",
   "execution_count": 2,
   "metadata": {},
   "outputs": [
    {
     "name": "stderr",
     "output_type": "stream",
     "text": [
      "\u001b[36m\u001b[1m[ \u001b[22m\u001b[39m\u001b[36m\u001b[1mInfo: \u001b[22m\u001b[39mnew driver key :netcdf, updating backendlist.\n",
      "┌ Info: new driver key :netcdf, updating backendlist.\n",
      "└ @ NetCDFExt /Users/gavinrockwood/.julia/packages/YAXArrayBase/M48vP/ext/NetCDFExt.jl:110\n"
     ]
    }
   ],
   "source": [
    "import SuperconductingCavities as SC"
   ]
  },
  {
   "cell_type": "markdown",
   "metadata": {},
   "source": [
    "# Making Model"
   ]
  },
  {
   "cell_type": "code",
   "execution_count": 3,
   "metadata": {},
   "outputs": [],
   "source": [
    "Mode3 = SC.Circuits.Transmon_Resonators.load(\"ModelSaves/Mode3/Mode3.json\");"
   ]
  },
  {
   "cell_type": "code",
   "execution_count": 4,
   "metadata": {},
   "outputs": [
    {
     "data": {
      "text/plain": [
       "Dict{Any, Any} with 17 entries:\n",
       "  \"d_t\"          => 0\n",
       "  \"Nrs\"          => Any[10]\n",
       "  \"E_C\"          => 0.102833\n",
       "  \"Cavity_Names\" => Any[\"Mode3\"]\n",
       "  \"E_J\"          => 26.9698\n",
       "  \"Nt_cut\"       => 60\n",
       "  \"E_oscs\"       => Any[6.22808]\n",
       "  \"Nt\"           => 10\n",
       "  \"ModelType\"    => \"TransmonResonators\"\n",
       "  \"ng\"           => 0\n",
       "  \"kappa_tc\"     => 1.78571e-5\n",
       "  \"kappa_td\"     => 1.2348e-5\n",
       "  \"d_r\"          => Any[1]\n",
       "  \"kappa_cc\"     => Any[1.0e-6]\n",
       "  \"Model_Name\"   => \"Mode3\"\n",
       "  \"gs\"           => Any[0.0268772]\n",
       "  \"Save_Path\"    => \"ModelSaves/Mode3/\""
      ]
     },
     "metadata": {},
     "output_type": "display_data"
    }
   ],
   "source": [
    "Mode3.params"
   ]
  },
  {
   "cell_type": "code",
   "execution_count": null,
   "metadata": {},
   "outputs": [],
   "source": []
  }
 ],
 "metadata": {
  "kernelspec": {
   "display_name": "Julia 1.11.1",
   "language": "julia",
   "name": "julia-1.11"
  },
  "language_info": {
   "file_extension": ".jl",
   "mimetype": "application/julia",
   "name": "julia",
   "version": "1.11.1"
  }
 },
 "nbformat": 4,
 "nbformat_minor": 2
}
