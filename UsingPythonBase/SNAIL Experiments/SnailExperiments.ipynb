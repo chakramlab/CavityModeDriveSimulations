{
 "cells": [
  {
   "cell_type": "markdown",
   "metadata": {},
   "source": [
    "# Setup"
   ]
  },
  {
   "cell_type": "markdown",
   "metadata": {},
   "source": [
    "## Imports"
   ]
  },
  {
   "cell_type": "code",
   "execution_count": 1,
   "metadata": {},
   "outputs": [
    {
     "name": "stdout",
     "output_type": "stream",
     "text": [
      "/local/gr400/Git Repositories/Research-SpinChainEntropy/CavityModeDriveSimulations/Main Package/\n"
     ]
    },
    {
     "name": "stderr",
     "output_type": "stream",
     "text": [
      "SyntaxWarning: \"is\" with a literal. Did you mean \"==\"?\n",
      " /local/gr400/Git Repositories/Research-SpinChainEntropy/CavityModeDriveSimulations/Main Package/Transmon_Cavity_Model.py: 1477SyntaxWarning: \"is\" with a literal. Did you mean \"==\"?\n",
      " /local/gr400/Git Repositories/Research-SpinChainEntropy/CavityModeDriveSimulations/Main Package/Transmon_Cavity_Model.py: 1481SyntaxWarning: \"is not\" with a literal. Did you mean \"!=\"?\n",
      " /local/gr400/Git Repositories/Research-SpinChainEntropy/CavityModeDriveSimulations/Main Package/Transmon_Cavity_Model.py: 1485SyntaxWarning: \"is not\" with a literal. Did you mean \"!=\"?\n",
      " /local/gr400/Git Repositories/Research-SpinChainEntropy/CavityModeDriveSimulations/Main Package/Transmon_Cavity_Model.py: 1490"
     ]
    }
   ],
   "source": [
    "import numpy as np\n",
    "import matplotlib.pyplot as plt\n",
    "import matplotlib.colors as colors\n",
    "import matplotlib.cm as cm\n",
    "from cycler import cycle\n",
    "\n",
    "import qutip as qp\n",
    "\n",
    "import scqubits as scq\n",
    "\n",
    "import xarray as xr\n",
    "\n",
    "\n",
    "import scipy.linalg as la\n",
    "import scipy.optimize as opt\n",
    "import scipy.fft as fft\n",
    "\n",
    "import colormaps as cmaps\n",
    "import matplotlib_inline.backend_inline\n",
    "matplotlib_inline.backend_inline.set_matplotlib_formats('png')\n",
    "\n",
    "import itertools as itert\n",
    "\n",
    "import IPython.display\n",
    "\n",
    "import sys\n",
    "\n",
    "import copy\n",
    "\n",
    "import pickle\n",
    "\n",
    "import json\n",
    "\n",
    "import pathlib\n",
    "\n",
    "import os\n",
    "\n",
    "import inspect\n",
    "\n",
    "from datetime import datetime\n",
    "\n",
    "\n",
    "path_to_package = str(pathlib.Path(os.getcwd()).parents[0])+'/Main Package/'\n",
    "print(path_to_package)\n",
    "sys.path.insert(0,path_to_package)\n",
    "\n",
    "main_path = str(pathlib.Path(os.getcwd()).parents[0])+'/'\n",
    "\n",
    "import importlib\n",
    "\n",
    "import Transmon_Cavity_Model as TCM"
   ]
  },
  {
   "cell_type": "code",
   "execution_count": null,
   "metadata": {},
   "outputs": [],
   "source": []
  }
 ],
 "metadata": {
  "kernelspec": {
   "display_name": "base",
   "language": "python",
   "name": "python3"
  },
  "language_info": {
   "codemirror_mode": {
    "name": "ipython",
    "version": 3
   },
   "file_extension": ".py",
   "mimetype": "text/x-python",
   "name": "python",
   "nbconvert_exporter": "python",
   "pygments_lexer": "ipython3",
   "version": "3.10.9"
  }
 },
 "nbformat": 4,
 "nbformat_minor": 2
}
