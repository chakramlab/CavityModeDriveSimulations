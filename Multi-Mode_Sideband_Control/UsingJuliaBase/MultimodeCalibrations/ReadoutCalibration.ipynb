{
 "cells": [
  {
   "cell_type": "markdown",
   "metadata": {},
   "source": [
    "# Setup"
   ]
  },
  {
   "cell_type": "markdown",
   "metadata": {},
   "source": [
    "## Imports"
   ]
  },
  {
   "cell_type": "code",
   "execution_count": 2,
   "metadata": {},
   "outputs": [
    {
     "name": "stderr",
     "output_type": "stream",
     "text": [
      "\u001b[32m\u001b[1m  Activating\u001b[22m\u001b[39m project at `~/.julia/environments/SCC`\n",
      "\u001b[36m\u001b[1m[ \u001b[22m\u001b[39m\u001b[36m\u001b[1mInfo: \u001b[22m\u001b[39mnew driver key :netcdf, updating backendlist.\n"
     ]
    }
   ],
   "source": [
    "using Pkg\n",
    "Pkg.activate(\"SCC\", shared=true)\n",
    "\n",
    "\n",
    "import QuantumToolbox as qt\n",
    "import SuperconductingCavities as SC\n",
    "import CairoMakie as cm\n",
    "using Revise\n",
    "using Dates\n",
    "import JSON3\n",
    "\n",
    "using ProgressMeter\n",
    "\n",
    "import Optim as opt\n",
    "\n",
    "using Logging\n",
    "using MiniLoggers"
   ]
  },
  {
   "cell_type": "markdown",
   "metadata": {},
   "source": [
    "## Logger Setups"
   ]
  },
  {
   "cell_type": "code",
   "execution_count": 3,
   "metadata": {},
   "outputs": [
    {
     "data": {
      "text/plain": [
       "ConsoleLogger(IJulia.IJuliaStdio{Base.PipeEndpoint}(IOContext(Base.PipeEndpoint(RawFD(40) open, 0 bytes waiting))), Info, Base.CoreLogging.default_metafmt, true, 0, Dict{Any, Int64}())"
      ]
     },
     "execution_count": 3,
     "metadata": {},
     "output_type": "execute_result"
    }
   ],
   "source": [
    "# MiniLogger(minlevel = MiniLoggers.Info) |> global_logger\n",
    "InfoLogger = MiniLogger(minlevel = MiniLoggers.Info)\n",
    "ProgressLogger = MiniLogger(minlevel = LogLevel(-1))\n",
    "DebugLogger = MiniLogger(minlevel = MiniLoggers.Debug)\n",
    "\n",
    "global_logger(ProgressLogger)"
   ]
  },
  {
   "cell_type": "markdown",
   "metadata": {},
   "source": [
    "# Loading Model and json"
   ]
  },
  {
   "cell_type": "code",
   "execution_count": 48,
   "metadata": {},
   "outputs": [],
   "source": [
    "Readout = SC.Circuits.Transmon_Resonators.load(\"ModelSaves/Readout/Readout.json\");\n",
    "proj_dict = SC.Utils.Get_Projection_Ops(Readout.dressed_states);\n",
    "\n",
    "device_config = JSON3.read(\"device_config_files/config_multimode.json\", Dict{Any, Any});\n",
    "\n"
   ]
  },
  {
   "cell_type": "code",
   "execution_count": 49,
   "metadata": {},
   "outputs": [],
   "source": [
    "GLOBAL_SAVE_CALIBRATE = true;"
   ]
  },
  {
   "cell_type": "code",
   "execution_count": 50,
   "metadata": {},
   "outputs": [
    {
     "data": {
      "text/plain": [
       "Dict{Any, Any} with 17 entries:\n",
       "  \"d_t\"          => 1\n",
       "  \"Nrs\"          => Any[10]\n",
       "  \"E_C\"          => 0.102833\n",
       "  \"Cavity_Names\" => Any[\"Resonator\"]\n",
       "  \"E_J\"          => 26.9698\n",
       "  \"Nt_cut\"       => 60\n",
       "  \"E_oscs\"       => Any[7.25]\n",
       "  \"Nt\"           => 10\n",
       "  \"ModelType\"    => \"TransmonResonators\"\n",
       "  \"ng\"           => 0\n",
       "  \"kappa_tc\"     => 1.78571e-5\n",
       "  \"kappa_td\"     => 1.2348e-5\n",
       "  \"d_r\"          => Any[0]\n",
       "  \"kappa_cc\"     => Any[1.0e-6]\n",
       "  \"Model_Name\"   => \"Readout\"\n",
       "  \"gs\"           => Any[0.0843756]\n",
       "  \"Save_Path\"    => \"ModelSaves/Readout/\""
      ]
     },
     "execution_count": 50,
     "metadata": {},
     "output_type": "execute_result"
    }
   ],
   "source": [
    "Readout.params"
   ]
  },
  {
   "cell_type": "code",
   "execution_count": 56,
   "metadata": {},
   "outputs": [
    {
     "data": {
      "text/plain": [
       "0.508320369231526 - 1.5644492319947136im"
      ]
     },
     "execution_count": 56,
     "metadata": {},
     "output_type": "execute_result"
    }
   ],
   "source": [
    "test = SC.Dynamics.Get_Drive_Coef([1,2,3], 0.1, return_ℂ=true)\n",
    "test(0.1)"
   ]
  },
  {
   "cell_type": "code",
   "execution_count": null,
   "metadata": {},
   "outputs": [],
   "source": []
  },
  {
   "cell_type": "markdown",
   "metadata": {},
   "source": [
    "# Fitting g"
   ]
  },
  {
   "cell_type": "code",
   "execution_count": 44,
   "metadata": {},
   "outputs": [
    {
     "data": {
      "text/plain": [
       "function_to_minimize_maker (generic function with 2 methods)"
      ]
     },
     "execution_count": 44,
     "metadata": {},
     "output_type": "execute_result"
    }
   ],
   "source": [
    "χ_e(model) = (model.dressed_energies[(1,1)]-model.dressed_energies[(0,1)])-(model.dressed_energies[(1,0)]-model.dressed_energies[(0,0)]);\n",
    "χ_e_target = -0.8796349178368246./1000\n",
    "\n",
    "initial_g = 0.02\n",
    "\n",
    "E_C = Readout.params[\"E_C\"]\n",
    "E_J = Readout.params[\"E_J\"]\n",
    "E_osc = Readout.params[\"E_oscs\"]\n",
    "function function_to_minimize_maker(E_osc, χ_e_target)\n",
    "    function to_min(g)\n",
    "        model = SC.Circuits.Transmon_Resonators.init(E_C, E_J, E_osc, g, 10, 10)\n",
    "        return abs(χ_e_target - χ_e(model))\n",
    "    end\n",
    "    return to_min\n",
    "end"
   ]
  },
  {
   "cell_type": "code",
   "execution_count": 45,
   "metadata": {},
   "outputs": [
    {
     "data": {
      "text/plain": [
       " * Status: success\n",
       "\n",
       " * Candidate solution\n",
       "    Final objective value:     1.362561e-08\n",
       "\n",
       " * Found with\n",
       "    Algorithm:     Nelder-Mead\n",
       "\n",
       " * Convergence measures\n",
       "    √(Σ(yᵢ-ȳ)²)/n ≤ 1.0e-08\n",
       "\n",
       " * Work counters\n",
       "    Seconds run:   0  (vs limit Inf)\n",
       "    Iterations:    9\n",
       "    f(x) calls:    21\n"
      ]
     },
     "execution_count": 45,
     "metadata": {},
     "output_type": "execute_result"
    }
   ],
   "source": [
    "to_min = function_to_minimize_maker(E_osc, χ_e_target)\n",
    "min_res = opt.optimize(to_min, [0.01])#, opt.LBFGS())"
   ]
  },
  {
   "cell_type": "code",
   "execution_count": 46,
   "metadata": {},
   "outputs": [
    {
     "name": "stdout",
     "output_type": "stream",
     "text": [
      "1.362560908546584e-8\n",
      "[0.0843756103515625]\n"
     ]
    }
   ],
   "source": [
    "println(min_res.minimum)\n",
    "println(min_res.minimizer)"
   ]
  },
  {
   "cell_type": "code",
   "execution_count": 47,
   "metadata": {},
   "outputs": [],
   "source": [
    "Readout.params[\"gs\"] = min_res.minimizer\n",
    "SC.Utils.save_model(Readout)"
   ]
  },
  {
   "cell_type": "markdown",
   "metadata": {},
   "source": [
    "# Calibrating Pulses"
   ]
  },
  {
   "cell_type": "code",
   "execution_count": null,
   "metadata": {},
   "outputs": [],
   "source": []
  }
 ],
 "metadata": {
  "kernelspec": {
   "display_name": "Julia 1.11.1",
   "language": "julia",
   "name": "julia-1.11"
  },
  "language_info": {
   "file_extension": ".jl",
   "mimetype": "application/julia",
   "name": "julia",
   "version": "1.11.1"
  }
 },
 "nbformat": 4,
 "nbformat_minor": 2
}
