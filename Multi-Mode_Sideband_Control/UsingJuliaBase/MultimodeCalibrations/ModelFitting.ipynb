{
 "cells": [
  {
   "cell_type": "markdown",
   "metadata": {},
   "source": [
    "# Setup"
   ]
  },
  {
   "cell_type": "markdown",
   "metadata": {},
   "source": [
    "## Imports"
   ]
  },
  {
   "cell_type": "code",
   "execution_count": 2,
   "metadata": {},
   "outputs": [
    {
     "name": "stderr",
     "output_type": "stream",
     "text": [
      "┌ Info: new driver key :netcdf, updating backendlist.\n",
      "└ @ NetCDFExt /home/gr400/.julia/packages/YAXArrayBase/Xj43k/ext/NetCDFExt.jl:81\n"
     ]
    }
   ],
   "source": [
    "import QuantumToolbox as qt\n",
    "import SuperconductingCavities as SC\n",
    "import CairoMakie as cm\n",
    "using Revise\n",
    "using Dates\n",
    "import JSON3\n",
    "\n",
    "using ProgressMeter\n",
    "\n",
    "import Optim as opt\n",
    "\n",
    "using Logging\n",
    "using MiniLoggers"
   ]
  },
  {
   "cell_type": "markdown",
   "metadata": {},
   "source": [
    "## Logger Setups"
   ]
  },
  {
   "cell_type": "code",
   "execution_count": 3,
   "metadata": {},
   "outputs": [
    {
     "data": {
      "text/plain": [
       "Base.CoreLogging.SimpleLogger(VSCodeServer.IJuliaCore.IJuliaStdio{Base.PipeEndpoint, typeof(VSCodeServer.io_send_callback)}(IOContext(Base.PipeEndpoint(RawFD(22) open, 0 bytes waiting)), VSCodeServer.io_send_callback), Info, Dict{Any, Int64}())"
      ]
     },
     "metadata": {},
     "output_type": "display_data"
    }
   ],
   "source": [
    "# MiniLogger(minlevel = MiniLoggers.Info) |> global_logger\n",
    "InfoLogger = MiniLogger(minlevel = MiniLoggers.Info)\n",
    "ProgressLogger = MiniLogger(minlevel = LogLevel(-1))\n",
    "DebugLogger = MiniLogger(minlevel = MiniLoggers.Debug)\n",
    "\n",
    "global_logger(ProgressLogger)"
   ]
  },
  {
   "cell_type": "markdown",
   "metadata": {},
   "source": [
    "# Fitting g"
   ]
  },
  {
   "cell_type": "code",
   "execution_count": 4,
   "metadata": {},
   "outputs": [],
   "source": [
    "device_config = JSON3.read(\"device_config_files/config_multimode.json\", Dict{Any, Any});"
   ]
  },
  {
   "cell_type": "code",
   "execution_count": 5,
   "metadata": {},
   "outputs": [
    {
     "data": {
      "text/plain": [
       "0.02"
      ]
     },
     "metadata": {},
     "output_type": "display_data"
    }
   ],
   "source": [
    "number_of_modes = length(device_config[\"device\"][\"soc\"][\"storage\"][\"freqs\"])\n",
    "\n",
    "E_J = 26.96976142643705\n",
    "E_C = 0.10283303447280807\n",
    "\n",
    "E_oscs = device_config[\"device\"][\"soc\"][\"storage\"][\"freqs\"]./1000\n",
    "\n",
    "χ_e(model) = (model.dressed_energies[(1,1)]-model.dressed_energies[(0,1)])-(model.dressed_energies[(1,0)]-model.dressed_energies[(0,0)]);\n",
    "χ_f(model) = (model.dressed_energies[(2,1)]-model.dressed_energies[(0,1)])-(model.dressed_energies[(2,0)]-model.dressed_energies[(0,0)]);\n",
    "\n",
    "χ_e_targets = device_config[\"device\"][\"soc\"][\"storage\"][\"chi_e\"]./1000\n",
    "χ_f_targets = device_config[\"device\"][\"soc\"][\"storage\"][\"chi_f\"]./1000\n",
    "initial_g = 0.02#0.026184375000000013;"
   ]
  },
  {
   "cell_type": "code",
   "execution_count": 6,
   "metadata": {},
   "outputs": [
    {
     "data": {
      "text/plain": [
       "function_to_minimize_maker (generic function with 1 method)"
      ]
     },
     "metadata": {},
     "output_type": "display_data"
    }
   ],
   "source": [
    "function function_to_minimize_maker(E_osc, χ_e_target, χ_f_target)\n",
    "    function to_min(g)\n",
    "        model = SC.Circuits.Transmon_Resonators.init(E_C, E_J, E_osc, g, 10, 10)\n",
    "        return (χ_e_target - χ_e(model))^2+(χ_f_target - χ_f(model))^2\n",
    "    end\n",
    "    return to_min\n",
    "end"
   ]
  },
  {
   "cell_type": "code",
   "execution_count": 7,
   "metadata": {},
   "outputs": [
    {
     "name": "stderr",
     "output_type": "stream",
     "text": [
      "\u001b[32mProgress: 100%|█████████████████████████████████████████| Time: 0:00:10\u001b[39m\u001b[K\n"
     ]
    }
   ],
   "source": [
    "model_list = []\n",
    "fit_list = []\n",
    "\n",
    "@showprogress for i in 1:number_of_modes\n",
    "    to_min = function_to_minimize_maker(E_oscs[i], χ_e_targets[i], χ_f_targets[i])\n",
    "    result = opt.optimize(to_min, [initial_g], opt.LBFGS())\n",
    "\n",
    "    Model_Name = \"Mode$i\"\n",
    "    Cavity_Names = [\"Mode$i\"]\n",
    "    model = SC.Circuits.Transmon_Resonators.init(E_C, E_J, E_oscs[i], result.minimizer[1], 10, 10; Model_Name = Model_Name, Cavity_Names = Cavity_Names, Save_Path = \"ModelSaves/$Model_Name/\")\n",
    "    model.Stuff[\"op_drive_params\"] = Dict{Any, Any}() \n",
    "    push!(model_list, model)\n",
    "    push!(fit_list, result)\n",
    "end"
   ]
  },
  {
   "cell_type": "code",
   "execution_count": null,
   "metadata": {},
   "outputs": [],
   "source": [
    "#for i in 1:length(model_list)\n",
    "#    SC.Utils.save_model(model_list[i])\n",
    "#end"
   ]
  },
  {
   "cell_type": "code",
   "execution_count": 8,
   "metadata": {},
   "outputs": [
    {
     "data": {
      "text/plain": [
       " * Status: success\n",
       "\n",
       " * Candidate solution\n",
       "    Final objective value:     2.159211e-10\n",
       "\n",
       " * Found with\n",
       "    Algorithm:     L-BFGS\n",
       "\n",
       " * Convergence measures\n",
       "    |x - x'|               = 7.13e-05 ≰ 0.0e+00\n",
       "    |x - x'|/|x'|          = 3.78e-03 ≰ 0.0e+00\n",
       "    |f(x) - f(x')|         = 8.31e-12 ≰ 0.0e+00\n",
       "    |f(x) - f(x')|/|f(x')| = 3.85e-02 ≰ 0.0e+00\n",
       "    |g(x)|                 = 3.86e-10 ≤ 1.0e-08\n",
       "\n",
       " * Work counters\n",
       "    Seconds run:   0  (vs limit Inf)\n",
       "    Iterations:    2\n",
       "    f(x) calls:    10\n",
       "    ∇f(x) calls:   10\n"
      ]
     },
     "metadata": {},
     "output_type": "display_data"
    }
   ],
   "source": [
    "fit_list[1]"
   ]
  },
  {
   "cell_type": "code",
   "execution_count": 18,
   "metadata": {},
   "outputs": [
    {
     "name": "stdout",
     "output_type": "stream",
     "text": [
      "Model χ_e: -0.00021299025974030883\n",
      "Target χ_e: -0.00022410935000000002\n",
      "Percent Dif: 4.961457547260382%\n",
      "\n",
      "Model χ_f: -0.0003927009672395343\n",
      "Target χ_f: -0.00038672456\n",
      "Percent Dif: -1.545391179586393%\n"
     ]
    }
   ],
   "source": [
    "i = 2\n",
    "println(\"Model χ_e: $(χ_e(model_list[i]))\")\n",
    "println(\"Target χ_e: $(χ_e_targets[i])\")\n",
    "println(\"Percent Dif: $((χ_e_targets[i]-χ_e(model_list[i]))/χ_e_targets[i]*100)%\")\n",
    "println()\n",
    "println(\"Model χ_f: $(χ_f(model_list[i]))\")\n",
    "println(\"Target χ_f: $(χ_f_targets[i])\")\n",
    "println(\"Percent Dif: $((χ_f_targets[i]-χ_f(model_list[i]))/χ_f_targets[i]*100)%\")"
   ]
  },
  {
   "cell_type": "code",
   "execution_count": null,
   "metadata": {},
   "outputs": [],
   "source": []
  }
 ],
 "metadata": {
  "kernelspec": {
   "display_name": "Julia 1.10.5",
   "language": "julia",
   "name": "julia-1.10"
  },
  "language_info": {
   "file_extension": ".jl",
   "mimetype": "application/julia",
   "name": "julia",
   "version": "1.10.5"
  }
 },
 "nbformat": 4,
 "nbformat_minor": 2
}
