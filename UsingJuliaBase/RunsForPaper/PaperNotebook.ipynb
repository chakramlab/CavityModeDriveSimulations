{
 "cells": [
  {
   "cell_type": "markdown",
   "metadata": {},
   "source": [
    "## Imports"
   ]
  },
  {
   "cell_type": "code",
   "execution_count": 1,
   "metadata": {},
   "outputs": [],
   "source": [
    "import QuantumToolbox as qt\n",
    "using Logging\n",
    "import CairoMakie as cm\n",
    "using MiniLoggers\n",
    "using Revise\n",
    "using Dates\n"
   ]
  },
  {
   "cell_type": "code",
   "execution_count": 2,
   "metadata": {},
   "outputs": [],
   "source": [
    "import SuperconductingCavities as SC"
   ]
  },
  {
   "cell_type": "markdown",
   "metadata": {},
   "source": [
    "## Logger Setups"
   ]
  },
  {
   "cell_type": "code",
   "execution_count": 3,
   "metadata": {},
   "outputs": [
    {
     "data": {
      "text/plain": [
       "Base.CoreLogging.SimpleLogger(VSCodeServer.IJuliaCore.IJuliaStdio{Base.PipeEndpoint, typeof(VSCodeServer.io_send_callback)}(IOContext(Base.PipeEndpoint(RawFD(23) open, 0 bytes waiting)), VSCodeServer.io_send_callback), Info, Dict{Any, Int64}())"
      ]
     },
     "metadata": {},
     "output_type": "display_data"
    }
   ],
   "source": [
    "# MiniLogger(minlevel = MiniLoggers.Info) |> global_logger\n",
    "InfoLogger = MiniLogger(minlevel = MiniLoggers.Info)\n",
    "ProgressLogger = MiniLogger(minlevel = LogLevel(-1))\n",
    "DebugLogger = MiniLogger(minlevel = MiniLoggers.Debug)\n",
    "\n",
    "global_logger(ProgressLogger)"
   ]
  },
  {
   "cell_type": "markdown",
   "metadata": {},
   "source": [
    "# Mode 3"
   ]
  },
  {
   "cell_type": "code",
   "execution_count": 4,
   "metadata": {},
   "outputs": [],
   "source": [
    "Mode3 = SC.Transmon_Resonators_Loader(\"ModelSaves/Mode3/Mode3.json\");"
   ]
  },
  {
   "cell_type": "code",
   "execution_count": 13,
   "metadata": {},
   "outputs": [
    {
     "name": "stdout",
     "output_type": "stream",
     "text": [
      "Sun-Sep-29-24:17:13\n"
     ]
    }
   ],
   "source": [
    "Mode3.CandD_Ops\n",
    "\n",
    "df = DateFormat(\"e-u-d-yy:H:M\")\n",
    "t = now()\n",
    "\n",
    "println(Dates.format(t, df))"
   ]
  },
  {
   "cell_type": "code",
   "execution_count": 99,
   "metadata": {},
   "outputs": [
    {
     "name": "stdout",
     "output_type": "stream",
     "text": [
      "exec -a g0_Encoding_Sun-Sep-29-4:2-37_\"Transmon Collapse\" nohup julia BinomialCodeRuns.jl Mode3 g0_Encoding_Sun-Sep-29-4:2-37_\"Transmon Collapse\"  \"Model.dressed_states[(0,0)]\" > Nohup_Outs/g0_Encoding_Sun-Sep-29-4:2-37_\"Transmon Collapse\".out & \"Transmon Collapse\""
     ]
    }
   ],
   "source": [
    "#c_d_ops_to_use = []\n",
    "#c_d_ops_to_use = [\"Mode 3 Collapse\"]\n",
    "c_d_ops_to_use = [\"Transmon Collapse\"]\n",
    "#c_d_ops_to_use = [\"Transmon Dephasing\"]\n",
    "#c_d_ops_to_use = [\"Mode 3 Collapse\", \"Transmon Collapse\", \"Transmon Dephasing\"]\n",
    "\n",
    "run_name = \"g0_Encoding_\"*string(Dates.format(t, df));\n",
    "for op in c_d_ops_to_use\n",
    "    run_name = run_name*\"_\\\"\"*op*\"\\\"\"\n",
    "end\n",
    "\n",
    "ψ_string = raw\"\\\"Model.dressed_states[(0,0)]\\\"\";#+1im*Mode3.dressed_states[\\(0,1\\)]\";\n",
    "\n",
    "string_to_exec = \"exec -a $run_name nohup julia BinomialCodeRuns.jl Mode3 $run_name  $ψ_string > Nohup_Outs/$run_name.out &\"\n",
    "\n",
    "for op in c_d_ops_to_use\n",
    "    string_to_exec = string_to_exec*\" \\\"\"*op*\"\\\"\"\n",
    "end\n",
    "\n",
    "print(string_to_exec)"
   ]
  },
  {
   "cell_type": "code",
   "execution_count": 100,
   "metadata": {},
   "outputs": [
    {
     "data": {
      "text/plain": [
       "Process(`\u001b[4mbash\u001b[24m \u001b[4m-c\u001b[24m \u001b[4m'exec -a g0_Encoding_Sun-Sep-29-4:2-37_\"Transmon Collapse\" nohup julia BinomialCodeRuns.jl Mode3 g0_Encoding_Sun-Sep-29-4:2-37_\"Transmon Collapse\"  \"Model.dressed_states[(0,0)]\" > Nohup_Outs/g0_Encoding_Sun-Sep-29-4:2-37_\"Transmon Collapse\".out & \"Transmon Collapse\"'\u001b[24m`, ProcessRunning)"
      ]
     },
     "metadata": {},
     "output_type": "display_data"
    }
   ],
   "source": [
    "# Arguments go as: Model, Run Name, State as parsible string (doesn't need to be normalized), collapse op names\n",
    "\n",
    "#run(Cmd(`bash -c $string_to_exec`, ignorestatus=true, detach=true), wait = false)"
   ]
  },
  {
   "cell_type": "code",
   "execution_count": 23,
   "metadata": {},
   "outputs": [
    {
     "name": "stdout",
     "output_type": "stream",
     "text": [
      "17:13"
     ]
    }
   ],
   "source": [
    "print(Dates.format(t+Minute(0), \"H:M\"))"
   ]
  },
  {
   "cell_type": "code",
   "execution_count": null,
   "metadata": {},
   "outputs": [],
   "source": []
  }
 ],
 "metadata": {
  "kernelspec": {
   "display_name": "Julia 1.10.5",
   "language": "julia",
   "name": "julia-1.10"
  },
  "language_info": {
   "file_extension": ".jl",
   "mimetype": "application/julia",
   "name": "julia",
   "version": "1.10.5"
  }
 },
 "nbformat": 4,
 "nbformat_minor": 2
}
