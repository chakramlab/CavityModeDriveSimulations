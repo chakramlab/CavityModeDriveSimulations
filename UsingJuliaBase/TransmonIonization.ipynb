{
 "cells": [
  {
   "cell_type": "markdown",
   "metadata": {},
   "source": [
    "# Setup"
   ]
  },
  {
   "cell_type": "markdown",
   "metadata": {},
   "source": [
    "## Imports"
   ]
  },
  {
   "cell_type": "code",
   "execution_count": 1,
   "metadata": {},
   "outputs": [
    {
     "data": {
      "text/plain": [
       "0"
      ]
     },
     "metadata": {},
     "output_type": "display_data"
    }
   ],
   "source": [
    "import QuantumToolbox as qt\n",
    "using Logging\n",
    "import CairoMakie as cm\n",
    "using MiniLoggers\n",
    "using Revise\n",
    "using Dates\n",
    "\n",
    "using ProgressLogging\n",
    "\n",
    "import LsqFit\n",
    "\n",
    "import JSON3\n",
    "import CSV\n",
    "\n",
    "using IJulia\n",
    "if isdefined(Main, :IJulia)\n",
    "    Main.IJulia.stdio_bytes[] = 0;\n",
    "end"
   ]
  },
  {
   "cell_type": "code",
   "execution_count": 2,
   "metadata": {},
   "outputs": [
    {
     "name": "stderr",
     "output_type": "stream",
     "text": [
      "┌ Info: new driver key :netcdf, updating backendlist.\n",
      "└ @ NetCDFExt /home/gr400/.julia/packages/YAXArrayBase/Xj43k/ext/NetCDFExt.jl:81\n"
     ]
    }
   ],
   "source": [
    "import SuperconductingCavities as SC"
   ]
  },
  {
   "cell_type": "markdown",
   "metadata": {},
   "source": [
    "## Logger Setups"
   ]
  },
  {
   "cell_type": "code",
   "execution_count": 3,
   "metadata": {},
   "outputs": [
    {
     "data": {
      "text/plain": [
       "Base.CoreLogging.SimpleLogger(VSCodeServer.IJuliaCore.IJuliaStdio{Base.PipeEndpoint, typeof(VSCodeServer.io_send_callback)}(IOContext(Base.PipeEndpoint(RawFD(22) open, 0 bytes waiting)), VSCodeServer.io_send_callback), Info, Dict{Any, Int64}())"
      ]
     },
     "metadata": {},
     "output_type": "display_data"
    }
   ],
   "source": [
    "# MiniLogger(minlevel = MiniLoggers.Info) |> global_logger\n",
    "InfoLogger = MiniLogger(minlevel = MiniLoggers.Info)\n",
    "ProgressLogger = MiniLogger(minlevel = LogLevel(-1))\n",
    "DebugLogger = MiniLogger(minlevel = MiniLoggers.Debug)\n",
    "\n",
    "global_logger(ProgressLogger)"
   ]
  },
  {
   "cell_type": "markdown",
   "metadata": {},
   "source": [
    "# Loading Model"
   ]
  },
  {
   "cell_type": "code",
   "execution_count": 4,
   "metadata": {},
   "outputs": [],
   "source": [
    "Mode3 = SC.Circuits.Transmon_Resonators.load(\"ModelSaves/Mode3/Mode3.json\");\n",
    "proj_dict = SC.Utils.Get_Projection_Ops(Mode3.dressed_states);"
   ]
  },
  {
   "cell_type": "markdown",
   "metadata": {},
   "source": [
    "# How many transmon levels in well? "
   ]
  },
  {
   "cell_type": "code",
   "execution_count": null,
   "metadata": {},
   "outputs": [
    {
     "data": {
      "text/plain": [
       "EigsolveResult:   type=Operator   dims=[121]\n",
       "values:\n",
       "121-element Vector{ComplexF64}:\n",
       " -24.640602903844393 + 0.0im\n",
       "   -20.0355067100929 + 0.0im\n",
       " -15.538862123529112 + 0.0im\n",
       " -11.154963489648392 + 0.0im\n",
       "  -6.888722157010434 + 0.0im\n",
       " -2.7458282332793686 + 0.0im\n",
       "  1.2670216531903513 + 0.0im\n",
       "   5.141791709520646 + 0.0im\n",
       "   8.868591412578034 + 0.0im\n",
       "  12.434911515853294 + 0.0im\n",
       "                     ⋮\n",
       "  1290.0080773213779 + 0.0im\n",
       "  1336.4861694656308 + 0.0im\n",
       "  1336.4861694656315 + 0.0im\n",
       "    1383.78879477375 + 0.0im\n",
       "    1383.78879477375 + 0.0im\n",
       "  1432.0376618840257 + 0.0im\n",
       "  1432.0376618840276 + 0.0im\n",
       "   1484.381914657832 + 0.0im\n",
       "  1484.3819146578326 + 0.0im\n",
       "vectors:\n",
       "121×121 Matrix{ComplexF64}:\n",
       "  1.8625e-81-0.0im  0.0+0.0im  0.0+0.0im  0.0+0.0im  …       0.965817+0.0im\n",
       " 2.07927e-79-0.0im  0.0+0.0im  0.0+0.0im  0.0+0.0im         -0.256853-0.0im\n",
       " 2.24562e-77-0.0im  0.0+0.0im  0.0+0.0im  0.0+0.0im          0.034837+0.0im\n",
       " 2.34511e-75-0.0im  0.0+0.0im  0.0+0.0im  0.0+0.0im        -0.0031952-0.0im\n",
       " 2.36675e-73-0.0im  0.0+0.0im  0.0+0.0im  0.0+0.0im       0.000222458+0.0im\n",
       "   2.307e-71-0.0im  0.0+0.0im  0.0+0.0im  0.0+0.0im  …    -1.25273e-5-0.0im\n",
       " 2.17064e-69-0.0im  0.0+0.0im  0.0+0.0im  0.0+0.0im        5.94019e-7+0.0im\n",
       " 1.97016e-67-0.0im  0.0+0.0im  0.0+0.0im  0.0+0.0im       -2.43873e-8-0.0im\n",
       " 1.72388e-65-0.0im  0.0+0.0im  0.0+0.0im  0.0+0.0im       8.84744e-10+0.0im\n",
       " 1.45317e-63-0.0im  0.0+0.0im  0.0+0.0im  0.0+0.0im      -2.88105e-11-0.0im\n",
       "            ⋮                                        ⋱               ⋮\n",
       " 1.72388e-65-0.0im  0.0+0.0im  0.0+0.0im  0.0+0.0im      1.53348e-206+0.0im\n",
       " 1.97016e-67-0.0im  0.0+0.0im  0.0+0.0im  0.0+0.0im      -1.0113e-207-0.0im\n",
       " 2.17064e-69-0.0im  0.0+0.0im  0.0+0.0im  0.0+0.0im      9.33475e-207+0.0im\n",
       "   2.307e-71-0.0im  0.0+0.0im  0.0+0.0im  0.0+0.0im  …  -1.96233e-205-0.0im\n",
       " 2.36675e-73-0.0im  0.0+0.0im  0.0+0.0im  0.0+0.0im      3.48466e-204+0.0im\n",
       " 2.34511e-75-0.0im  0.0+0.0im  0.0+0.0im  0.0+0.0im     -5.00505e-203-0.0im\n",
       " 2.24562e-77-0.0im  0.0+0.0im  0.0+0.0im  0.0+0.0im      5.45698e-202+0.0im\n",
       " 2.07927e-79-0.0im  0.0+0.0im  0.0+0.0im  0.0+0.0im     -4.02342e-201-0.0im\n",
       "  1.8625e-81-0.0im  0.0+0.0im  0.0+0.0im  0.0+0.0im  …   1.51289e-200+0.0im"
      ]
     },
     "metadata": {},
     "output_type": "display_data"
    }
   ],
   "source": [
    "E_J = Mode3.hilbertspace.Components[\"Transmon\"]\n",
    "Mode3.hilbertspace.Components[\"Transmon\"].eigsys_full[1]"
   ]
  },
  {
   "cell_type": "code",
   "execution_count": null,
   "metadata": {},
   "outputs": [],
   "source": []
  }
 ],
 "metadata": {
  "kernelspec": {
   "display_name": "Julia 1.10.5",
   "language": "julia",
   "name": "julia-1.10"
  },
  "language_info": {
   "file_extension": ".jl",
   "mimetype": "application/julia",
   "name": "julia",
   "version": "1.10.5"
  }
 },
 "nbformat": 4,
 "nbformat_minor": 2
}
